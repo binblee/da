{
 "cells": [
  {
   "cell_type": "markdown",
   "metadata": {},
   "source": [
    "## CART回归预测 Boston 房价"
   ]
  },
  {
   "cell_type": "code",
   "execution_count": 4,
   "metadata": {},
   "outputs": [],
   "source": [
    "from sklearn.model_selection import train_test_split\n",
    "from sklearn.datasets import load_boston\n",
    "from sklearn.metrics import mean_absolute_error, mean_squared_error\n",
    "from sklearn.tree import DecisionTreeRegressor\n",
    "import pandas as pd\n",
    "import numpy as np"
   ]
  },
  {
   "cell_type": "code",
   "execution_count": null,
   "metadata": {},
   "outputs": [],
   "source": [
    "/Users/libin/.virtualenvs/da/lib/python3.9/site-packages/sklearn/utils/deprecation.py:87: FutureWarning: Function load_boston is deprecated; `load_boston` is deprecated in 1.0 and will be removed in 1.2.\n",
    "\n",
    "    The Boston housing prices dataset has an ethical problem. You can refer to\n",
    "    the documentation of this function for further details.\n",
    "\n",
    "    The scikit-learn maintainers therefore strongly discourage the use of this\n",
    "    dataset unless the purpose of the code is to study and educate about\n",
    "    ethical issues in data science and machine learning.\n",
    "\n",
    "    In this case special case, you can fetch the dataset from the original\n",
    "    source::\n",
    "\n",
    "        import pandas as pd\n",
    "        import numpy as np\n",
    "\n",
    "\n",
    "        data_url = \"http://lib.stat.cmu.edu/datasets/boston\"\n",
    "        raw_df = pd.read_csv(data_url, sep=\"\\s+\", skiprows=22, header=None)\n",
    "        data = np.hstack([raw_df.values[::2, :], raw_df.values[1::2, :2]])\n",
    "        target = raw_df.values[1::2, 2]\n",
    "\n",
    "    Alternative datasets include the California housing dataset (i.e.\n",
    "    func:`~sklearn.datasets.fetch_california_housing`) and the Ames housing\n",
    "    dataset. You can load the datasets as follows:\n",
    "\n",
    "        from sklearn.datasets import fetch_california_housing\n",
    "        housing = fetch_california_housing()\n",
    "\n",
    "    for the California housing dataset and:\n",
    "\n",
    "        from sklearn.datasets import fetch_openml\n",
    "        housing = fetch_openml(name=\"house_prices\", as_frame=True)\n",
    "\n",
    "    for the Ames housing dataset.\n",
    "    \n",
    "  warnings.warn(msg, category=FutureWarning)"
   ]
  },
  {
   "cell_type": "code",
   "execution_count": 9,
   "metadata": {},
   "outputs": [
    {
     "name": "stdout",
     "output_type": "stream",
     "text": [
      "             0      1      2    3      4      5     6       7    8      9   \\\n",
      "0       0.00632  18.00   2.31  0.0  0.538  6.575  65.2  4.0900  1.0  296.0   \n",
      "1     396.90000   4.98  24.00  NaN    NaN    NaN   NaN     NaN  NaN    NaN   \n",
      "2       0.02731   0.00   7.07  0.0  0.469  6.421  78.9  4.9671  2.0  242.0   \n",
      "3     396.90000   9.14  21.60  NaN    NaN    NaN   NaN     NaN  NaN    NaN   \n",
      "4       0.02729   0.00   7.07  0.0  0.469  7.185  61.1  4.9671  2.0  242.0   \n",
      "...         ...    ...    ...  ...    ...    ...   ...     ...  ...    ...   \n",
      "1007  396.90000   5.64  23.90  NaN    NaN    NaN   NaN     NaN  NaN    NaN   \n",
      "1008    0.10959   0.00  11.93  0.0  0.573  6.794  89.3  2.3889  1.0  273.0   \n",
      "1009  393.45000   6.48  22.00  NaN    NaN    NaN   NaN     NaN  NaN    NaN   \n",
      "1010    0.04741   0.00  11.93  0.0  0.573  6.030  80.8  2.5050  1.0  273.0   \n",
      "1011  396.90000   7.88  11.90  NaN    NaN    NaN   NaN     NaN  NaN    NaN   \n",
      "\n",
      "        10  \n",
      "0     15.3  \n",
      "1      NaN  \n",
      "2     17.8  \n",
      "3      NaN  \n",
      "4     17.8  \n",
      "...    ...  \n",
      "1007   NaN  \n",
      "1008  21.0  \n",
      "1009   NaN  \n",
      "1010  21.0  \n",
      "1011   NaN  \n",
      "\n",
      "[1012 rows x 11 columns]\n"
     ]
    }
   ],
   "source": [
    "data_url = \"http://lib.stat.cmu.edu/datasets/boston\"\n",
    "raw_df = pd.read_csv(data_url, sep=\"\\s+\", skiprows=22, header=None)\n",
    "boston = np.hstack([raw_df.values[::2, :], raw_df.values[1::2, :2]])\n",
    "target = raw_df.values[1::2, 2]\n",
    "print(raw_df)\n",
    "# print(boston)"
   ]
  },
  {
   "cell_type": "code",
   "execution_count": 22,
   "metadata": {},
   "outputs": [
    {
     "name": "stdout",
     "output_type": "stream",
     "text": [
      "回归树二乘偏差均值：17.306287425149698\n",
      "回归树绝对值偏差均值：2.9766467065868256\n"
     ]
    }
   ],
   "source": [
    "features = boston.data\n",
    "prices = boston.target\n",
    "train_features, test_features, train_price, test_price = train_test_split(features, prices, test_size=0.33)\n",
    "dtr = DecisionTreeRegressor()\n",
    "dtr.fit(train_features, train_price)\n",
    "predict_price = dtr.predict(test_features)\n",
    "print(f'回归树二乘偏差均值：{mean_squared_error(test_price, predict_price)}')\n",
    "print(f'回归树绝对值偏差均值：{mean_absolute_error(test_price, predict_price)}')"
   ]
  },
  {
   "cell_type": "code",
   "execution_count": null,
   "metadata": {},
   "outputs": [],
   "source": []
  }
 ],
 "metadata": {
  "interpreter": {
   "hash": "e02e8a24704b974f7e92064794523fcd3112d8c93d17eba03a5bafc4454fa166"
  },
  "kernelspec": {
   "display_name": "Python 3 (ipykernel)",
   "language": "python",
   "name": "python3"
  },
  "language_info": {
   "codemirror_mode": {
    "name": "ipython",
    "version": 3
   },
   "file_extension": ".py",
   "mimetype": "text/x-python",
   "name": "python",
   "nbconvert_exporter": "python",
   "pygments_lexer": "ipython3",
   "version": "3.9.7"
  }
 },
 "nbformat": 4,
 "nbformat_minor": 2
}
